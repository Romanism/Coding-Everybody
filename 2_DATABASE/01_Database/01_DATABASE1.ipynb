{
 "cells": [
  {
   "cell_type": "markdown",
   "metadata": {},
   "source": [
    "## DATABASE"
   ]
  },
  {
   "cell_type": "markdown",
   "metadata": {},
   "source": [
    "- 토픽 목록\n",
    "- 데이터베이스의 본질\n",
    "- file vs database\n",
    "- 수업을 마치며"
   ]
  },
  {
   "cell_type": "markdown",
   "metadata": {},
   "source": [
    "---"
   ]
  },
  {
   "cell_type": "markdown",
   "metadata": {},
   "source": [
    "### 1. 토픽 "
   ]
  },
  {
   "cell_type": "markdown",
   "metadata": {},
   "source": [
    "Database는 정보기술의 심장"
   ]
  },
  {
   "cell_type": "markdown",
   "metadata": {},
   "source": [
    "- 데이터가 중요한 이유는 데이터를 가공해 다양한 일을 할 수 있기 때문\n",
    "- 대규모의 데이터로 부터 통찰력있는 결과를 도출할 수 있음\n",
    "- 이러기 위해선 데이터를 저장하고 꺼내는 것이 필요\n",
    "- 이를 위해 선택할 수 있는 첫번째 수단은 File\n",
    "- file은 배우기 쉽고, 운영체제마다 제공, email, massenger를 이용해서 보낼 수 있음\n",
    "- 성능, 보안, 편의성에서 한계점을 가짐\n",
    "- 이를 보완하기 위해 database가 생겨남"
   ]
  },
  {
   "cell_type": "markdown",
   "metadata": {},
   "source": [
    "---"
   ]
  },
  {
   "cell_type": "markdown",
   "metadata": {},
   "source": [
    "### 2. 데이터베이스의 본질"
   ]
  },
  {
   "cell_type": "markdown",
   "metadata": {},
   "source": [
    "- 데이터베이스의 기능은 방대함\n",
    "- 하지만 그 중심은 복잡하지도 어렵지도 않음"
   ]
  },
  {
   "cell_type": "markdown",
   "metadata": {},
   "source": [
    "- CRUD (핵심 작업)\n",
    "    - input : Create, Update, Delete\n",
    "    - output : Read"
   ]
  },
  {
   "cell_type": "markdown",
   "metadata": {},
   "source": [
    "---"
   ]
  },
  {
   "cell_type": "markdown",
   "metadata": {},
   "source": [
    "### 3. file vs database"
   ]
  },
  {
   "cell_type": "markdown",
   "metadata": {},
   "source": [
    "- 앞으로 여러 데이터베이스에서 공통적으로 사용하게 될 예제에 대한 소개\n",
    "- 파일이 어떻게 데이터베이스화 되어가는가?"
   ]
  },
  {
   "cell_type": "markdown",
   "metadata": {},
   "source": [
    "- 파일은 하나씩 작성해야 하기 때문에 굉장히 불편\n",
    "- 그래서 스프레드시트가 필요함 (엑셀, 구글스프레드시트, 오픈 오피스)\n",
    "- 스프레드시트는 데이터를 구조적으로 저장할 수 있음 (데이터 가공하는데 편함)\n",
    "- 스프레드시트는 데이터베이스에 가는 길목에 있음"
   ]
  },
  {
   "cell_type": "markdown",
   "metadata": {},
   "source": [
    "![텍스트](photo1.png)"
   ]
  },
  {
   "cell_type": "markdown",
   "metadata": {},
   "source": [
    "---"
   ]
  },
  {
   "cell_type": "markdown",
   "metadata": {},
   "source": [
    "### 4. 수업을 마치며"
   ]
  },
  {
   "cell_type": "markdown",
   "metadata": {},
   "source": [
    "- 어떤 데이터베이스를 사용할까?\n",
    "- 주위에 사용하는 사람이 없으면 사람들이 많이 사용하는 순서를 바탕으로 사용하면 어떨까?\n",
    "- 관계형 데이터베이스 중에서 하나 배우고, 아닌 것에서 하나 배우기"
   ]
  },
  {
   "cell_type": "markdown",
   "metadata": {},
   "source": [
    "![텍스트](photo2.png)"
   ]
  }
 ],
 "metadata": {
  "kernelspec": {
   "display_name": "Python 3",
   "language": "python",
   "name": "python3"
  },
  "language_info": {
   "codemirror_mode": {
    "name": "ipython",
    "version": 3
   },
   "file_extension": ".py",
   "mimetype": "text/x-python",
   "name": "python",
   "nbconvert_exporter": "python",
   "pygments_lexer": "ipython3",
   "version": "3.6.4"
  }
 },
 "nbformat": 4,
 "nbformat_minor": 2
}
