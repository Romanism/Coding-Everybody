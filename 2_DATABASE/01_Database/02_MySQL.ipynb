{
 "cells": [
  {
   "cell_type": "markdown",
   "metadata": {},
   "source": [
    "### 1. 데이터베이스의 목적"
   ]
  },
  {
   "cell_type": "markdown",
   "metadata": {},
   "source": [
    "#### 스프레드시트 vs DATABASE"
   ]
  },
  {
   "cell_type": "markdown",
   "metadata": {},
   "source": [
    "#### 1.1 공통점 : \n",
    "\n",
    "- 표의 형식으로 나타냄\n",
    "\n",
    "\n",
    "#### 1.2 차이점 :\n",
    "\n",
    "- DATABASE는 코딩을 통해서 데이터를 제어할 수 있음 (SQL)\n",
    "\n",
    "\n",
    "- 데이터베이스를 구축하면 데이터베이스에 저장된 데이터를 웹, 앱을 통해 공유할 수도 있고 빅데이터를 통해 분석할 수 있음\n",
    "\n",
    "\n",
    "- 웹에서 작성한 글들이 데이터베이스에 자동으로 저장되기도 함"
   ]
  },
  {
   "cell_type": "markdown",
   "metadata": {},
   "source": [
    "---"
   ]
  },
  {
   "cell_type": "markdown",
   "metadata": {},
   "source": [
    "### 2. MySQL의 구조"
   ]
  },
  {
   "cell_type": "markdown",
   "metadata": {},
   "source": [
    "#### 2.1 표 (Table)\n",
    "\n",
    "- 가장 기본적인 구조"
   ]
  },
  {
   "cell_type": "markdown",
   "metadata": {},
   "source": [
    "#### 2.2 스키마  (Schema)\n",
    "\n",
    "- 표들을 서로 그룹핑할때 사용하는 일종의 폴더 (표들의 집합)\n",
    "- 서로 연관되있는것을 그룹핑 해줌"
   ]
  },
  {
   "cell_type": "markdown",
   "metadata": {},
   "source": [
    "#### 2.3 데이터베이스 서버  (database server)\n",
    "\n",
    "- 스키마들이 저장되는 장소"
   ]
  },
  {
   "cell_type": "markdown",
   "metadata": {},
   "source": [
    "![텍스트](photo3.png)"
   ]
  },
  {
   "cell_type": "markdown",
   "metadata": {},
   "source": [
    "---"
   ]
  },
  {
   "cell_type": "markdown",
   "metadata": {},
   "source": [
    "### 3. MySQL 서버 접속"
   ]
  },
  {
   "cell_type": "markdown",
   "metadata": {},
   "source": [
    "terminal창에 mysql -u root -p 입력"
   ]
  },
  {
   "cell_type": "code",
   "execution_count": null,
   "metadata": {},
   "outputs": [],
   "source": []
  }
 ],
 "metadata": {
  "kernelspec": {
   "display_name": "Python 3",
   "language": "python",
   "name": "python3"
  },
  "language_info": {
   "codemirror_mode": {
    "name": "ipython",
    "version": 3
   },
   "file_extension": ".py",
   "mimetype": "text/x-python",
   "name": "python",
   "nbconvert_exporter": "python",
   "pygments_lexer": "ipython3",
   "version": "3.6.4"
  }
 },
 "nbformat": 4,
 "nbformat_minor": 2
}
